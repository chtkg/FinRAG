{
 "cells": [
  {
   "cell_type": "code",
   "execution_count": 3,
   "metadata": {},
   "outputs": [
    {
     "name": "stdout",
     "output_type": "stream",
     "text": [
      "文件中 'GIN' 字段出现的次数: 195\n"
     ]
    }
   ],
   "source": [
    "def count_gin_occurrences(file_path):\n",
    "    \"\"\"\n",
    "    读取一个文本文件，计算其中包含多少个 \"GIN\" 字段。\n",
    "\n",
    "    :param file_path: 文件路径\n",
    "    :return: \"GIN\" 字段出现的次数\n",
    "    \"\"\"\n",
    "    try:\n",
    "        # 打开文件并读取内容\n",
    "        with open(file_path, \"r\", encoding=\"utf-8\") as file:\n",
    "            content = file.read()\n",
    "\n",
    "        # 统计 \"GIN\" 出现的次数\n",
    "        gin_count = content.count(\"GIN\")\n",
    "        return gin_count\n",
    "\n",
    "    except FileNotFoundError:\n",
    "        print(f\"错误：文件 '{file_path}' 未找到。\")\n",
    "        return 0\n",
    "    except Exception as e:\n",
    "        print(f\"读取文件时发生错误：{e}\")\n",
    "        return 0\n",
    "\n",
    "# 示例用法\n",
    "if __name__ == \"__main__\":\n",
    "    # 文件路径\n",
    "    file_path = \"log.txt\"  # 替换为你的文件路径\n",
    "\n",
    "    # 计算 \"GIN\" 字段的数量\n",
    "    gin_count = count_gin_occurrences(file_path)\n",
    "\n",
    "    # 输出结果\n",
    "    print(f\"文件中 'GIN' 字段出现的次数: {gin_count}\")"
   ]
  }
 ],
 "metadata": {
  "kernelspec": {
   "display_name": "langgraph",
   "language": "python",
   "name": "python3"
  },
  "language_info": {
   "codemirror_mode": {
    "name": "ipython",
    "version": 3
   },
   "file_extension": ".py",
   "mimetype": "text/x-python",
   "name": "python",
   "nbconvert_exporter": "python",
   "pygments_lexer": "ipython3",
   "version": "3.12.9"
  }
 },
 "nbformat": 4,
 "nbformat_minor": 2
}

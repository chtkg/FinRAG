{
 "cells": [
  {
   "cell_type": "code",
   "execution_count": 3,
   "metadata": {},
   "outputs": [
    {
     "name": "stdout",
     "output_type": "stream",
     "text": [
      "所有文本文件已合并到 ./FinRep/report.txt\n"
     ]
    }
   ],
   "source": [
    "import os\n",
    "import glob\n",
    "\n",
    "def merge_txt_files(input_dir, output_file):\n",
    "    \"\"\"\n",
    "    读取指定目录下的所有txt文件，并将它们的内容合并到一个新的txt文件中。\n",
    "\n",
    "    :param input_dir: 输入目录的路径，其中包含要合并的txt文件。\n",
    "    :param output_file: 输出文件的路径，合并后的内容将写入此文件。\n",
    "    \"\"\"\n",
    "    \n",
    "     # 使用glob模块找到目录中所有的txt文件\n",
    "    txt_files = glob.glob(os.path.join(input_dir, 'yanbao*.txt'))\n",
    "    \n",
    "    # 按照文件名中的数字对文件进行排序\n",
    "    # 正则表达式提取文件名中的数字，并转换为整数用于排序\n",
    "    txt_files.sort(key=lambda x: int(os.path.basename(x)[6:-4]))\n",
    "    \n",
    "    # 打开输出文件准备写入\n",
    "    with open(output_file, 'w', encoding='utf-8') as outfile:\n",
    "        # 遍历排序后的txt文件\n",
    "        for txt_file in txt_files:\n",
    "            # 打开并读取每个txt文件的内容\n",
    "            with open(txt_file, 'r', encoding='utf-8') as infile:\n",
    "                # 将读取的内容写入输出文件\n",
    "                outfile.write(infile.read() + '\\n\\n')  # 在文件内容之间添加两个换行符\n",
    "\n",
    "# 指定输入目录和输出文件\n",
    "input_directory = './FinRep/financial_research_reports'\n",
    "output_txt_file = './FinRep/report.txt'\n",
    "\n",
    "# 调用函数执行合并操作\n",
    "merge_txt_files(input_directory, output_txt_file)\n",
    "\n",
    "print(f\"所有文本文件已合并到 {output_txt_file}\")"
   ]
  }
 ],
 "metadata": {
  "kernelspec": {
   "display_name": "langgraph",
   "language": "python",
   "name": "python3"
  },
  "language_info": {
   "codemirror_mode": {
    "name": "ipython",
    "version": 3
   },
   "file_extension": ".py",
   "mimetype": "text/x-python",
   "name": "python",
   "nbconvert_exporter": "python",
   "pygments_lexer": "ipython3",
   "version": "3.12.9"
  }
 },
 "nbformat": 4,
 "nbformat_minor": 2
}
